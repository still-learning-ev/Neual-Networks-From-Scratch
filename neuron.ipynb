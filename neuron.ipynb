{
 "cells": [
  {
   "cell_type": "markdown",
   "metadata": {},
   "source": [
    "# NEURON\n",
    "### **Author**: Zeeshan Ahmad Lone \n",
    "#### **Introduction**: In this module we are going to learn basics of neuron and implement it from scratch using python and numpy.\n",
    "#### **Note**:- This module assumes that reader has basic knowledge of python and numpy and linear algebra.\n",
    "#### A single neuron reprsents a mathematical function that tries to mimic the neuron inspired from neuroscience\n",
    "1. Mathematical representation of the neuron is given as $$y = \\sum_{i=0}^{n} w_{i} * x_{i} + b$$ Where $$y = \\textit{Output of the neuron}, w = \\textit{Weigths present in the neuron, x = \\textit{Input to the neuron} and b = \\textit{Bias}}$$\n",
    "2. Unrolling the above equation if $n = 3$ we get $$y = w_{0}*x_{0} + w_{1}*x_{1} +w_{2}*x_{2} + b$$\n",
    "Let us understand the meaning of above equation $x$ means inputs that will be given to our neuron and based on the inputs our neuron is going to produce some output $y$ by multiplying each input with some number $w$ called weigths and each input has its own weight and finally adding a term $b$ called bias.$\\newline$ \n",
    "There can be $n$ number of inputs that will be given to our neuron $\\textit{i.e}$ if $n = 2$ which means that our neuron will have two inputs $x_{1}\\space and \\space x_{2}$ and corresponding to the two inputs it will have two weights $w_{1} \\space and \\space w_{2}$ and only one bias term $\\textit{b}$.$\\newline$\n",
    "Similarly, there can be $n$ number of inputs that will be given to our neuron $\\textit{i.e}$ if $n = 3$ which means that our neuron will have two inputs $x_{1}\\space , \\space x_{2} \\space and\\space x_{3}$ and corresponding to the three inputs it will have three weights $w_{1} \\space , \\space w_{2} \\space and \\space w_{3}$ and only one bias term $\\textit{b}$.\n",
    "### We will see the implementation of the neuron in pure python after that we are going to move and implement the same neuron using numpy.\n",
    "- We are going to start by an example\n",
    "- Let us say $n = 4$ which means our neuron will have four inputs $x_{1}\\space , \\space x_{2} \\space , \\space x_{3} \\space ans \\space x_{4}$\n",
    "- If $n = 4$ that means weigths will also be 4 $w_{1} \\space , \\space w_{2} \\space , \\space w_{3} \\space and \\space w_{4}$\n",
    "- Finally we will have a bias term $b$ with some value."
   ]
  },
  {
   "cell_type": "code",
   "execution_count": 1,
   "metadata": {},
   "outputs": [
    {
     "name": "stdout",
     "output_type": "stream",
     "text": [
      "Output of the neuron (y) = 4.8\n"
     ]
    }
   ],
   "source": [
    "# Inputs n = 4\n",
    "x1, x2, x3, x4 = 1.0, 2.0, 3.0, 2.5\n",
    "\n",
    "# weigths\n",
    "w1, w2, w3, w4 = 0.2, 0.8, -0.5, 1.0\n",
    "\n",
    "# bias\n",
    "b = 2.0\n",
    "\n",
    "# output produced by neuron will be y\n",
    "y = x1 * w1 + x2 * w2 + x3 * w3 + x4 * w4 + b\n",
    "\n",
    "# Printing the output\n",
    "print(f\"Output of the neuron (y) = {y}\")"
   ]
  },
  {
   "cell_type": "code",
   "execution_count": 3,
   "metadata": {},
   "outputs": [
    {
     "name": "stdout",
     "output_type": "stream",
     "text": [
      "Output of the neuron (y) = 2.3\n"
     ]
    }
   ],
   "source": [
    "# Inputs n = 3\n",
    "x1, x2, x3 = 1.0, 2.0, 3.0\n",
    "\n",
    "# weigths\n",
    "w1, w2, w3 = 0.2, 0.8, -0.5\n",
    "\n",
    "# bias\n",
    "b = 2.0\n",
    "\n",
    "# output produced by neuron will be y\n",
    "y = x1 * w1 + x2 * w2 + x3 * w3 + b\n",
    "\n",
    "# Printing the output\n",
    "print(f\"Output of the neuron (y) = {y}\")"
   ]
  },
  {
   "cell_type": "markdown",
   "metadata": {},
   "source": [
    "#### The problem with the above piece of code is that whenever $\\textit{n}$ increases or decreases we have to make new variables for $x$ and $w$ and finally we also have to rewrite the equation that is producing the output.\n",
    "Say that if we are going to have 100 inputs to our neuron we will have to write $x_{1}\\space to \\space x_{100}$ and do same for weigths and change the equation accordingly.$\\newline$\n",
    "How are we going to solve this problem is using by $\\textit{list}$ data structure in python which can handle change in size and will serve our purpose for now. In the example below we will use list to do the same which we have done above."
   ]
  },
  {
   "cell_type": "code",
   "execution_count": 9,
   "metadata": {},
   "outputs": [
    {
     "name": "stdout",
     "output_type": "stream",
     "text": [
      "Output of the neuron (y) = 4.8\n"
     ]
    }
   ],
   "source": [
    "# Inputs n = 4\n",
    "inputs = [1.0, 2.0, 3.0, 2.5]\n",
    "\n",
    "# weigths\n",
    "weights = [0.2, 0.8, -0.5, 1.0]\n",
    "\n",
    "# bias\n",
    "b = 2.0\n",
    "\n",
    "# check if the number of inputs and weights match\n",
    "assert len(inputs) == len(weights), \"Error weights and inputs should have same shape\"\n",
    "\n",
    "# output produced by neuron will be y\n",
    "sum = 0\n",
    "for xi, wi in zip(inputs, weights):\n",
    "    sum += xi * wi\n",
    "\n",
    "y = sum + b\n",
    "\n",
    "# Printing the output\n",
    "print(f\"Output of the neuron (y) = {y}\")"
   ]
  },
  {
   "cell_type": "code",
   "execution_count": 10,
   "metadata": {},
   "outputs": [
    {
     "name": "stdout",
     "output_type": "stream",
     "text": [
      "Output of the neuron (y) = 2.3\n"
     ]
    }
   ],
   "source": [
    "# Inputs n = 4\n",
    "inputs = [1.0, 2.0, 3.0]\n",
    "\n",
    "# weigths\n",
    "weights = [0.2, 0.8, -0.5]\n",
    "\n",
    "# bias\n",
    "b = 2.0\n",
    "\n",
    "# check if the number of inputs and weights match\n",
    "assert len(inputs) == len(weights), \"Error weights and inputs should have same shape\"\n",
    "\n",
    "# output produced by neuron will be y\n",
    "sum = 0\n",
    "for xi, wi in zip(inputs, weights):\n",
    "    sum += xi * wi\n",
    "\n",
    "y = sum + b\n",
    "\n",
    "# Printing the output\n",
    "print(f\"Output of the neuron (y) = {y}\")"
   ]
  },
  {
   "cell_type": "markdown",
   "metadata": {},
   "source": [
    "##### As we can see the difference in above code snipets:-\n",
    "1. We dont have to worry about creating new variables if the number of input changes.\n",
    "2. We dont have to modify the function of the neuron.\n",
    "\n",
    "Everything is good until now but python lists are not efficent from linear algebric point of view. You can read more on why they are not good and why we are going to use numpy for such tasks online if you are intrested. We would like to do following few changes to make the above code more efficient using numpy a library of python.\n",
    "- Use numpy array instead of python lists.\n",
    "- Remove the for loop by matrix multiplication.\n",
    "1. To convert python list in numpy array we use np.array() method.\n",
    "2. We use dot product of two vectors instead of for loop. The dot product of two vectors $\\vec{a}\\space and \\space \\vec{b}$ is given $$\\vec{a}.\\vec{b} = \\sum_{i=0}^{n} a_{i} * b_{i}$$ Where $$ n \\textit{ is the size of vector a and b}$$\n"
   ]
  },
  {
   "cell_type": "code",
   "execution_count": 14,
   "metadata": {},
   "outputs": [
    {
     "name": "stdout",
     "output_type": "stream",
     "text": [
      "Output of the neuron (y) = 4.8\n"
     ]
    }
   ],
   "source": [
    "import numpy as np\n",
    "\n",
    "# Inputs n = 4\n",
    "inputs = np.array([1.0, 2.0, 3.0, 2.5])\n",
    "\n",
    "# weigths\n",
    "weights = np.array([0.2, 0.8, -0.5, 1.0])\n",
    "\n",
    "# bias\n",
    "b = 2.0\n",
    "\n",
    "# check if the number of inputs and weights match\n",
    "assert inputs.shape == weights.shape and inputs.ndim == 1, \"Error weights and inputs should have same shape\"\n",
    "\n",
    "# output produced by neuron will be y\n",
    "y = np.dot(inputs, weights) + b\n",
    "\n",
    "# Printing the output\n",
    "print(f\"Output of the neuron (y) = {y}\")"
   ]
  },
  {
   "cell_type": "code",
   "execution_count": 15,
   "metadata": {},
   "outputs": [
    {
     "name": "stdout",
     "output_type": "stream",
     "text": [
      "Output of the neuron (y) = 2.3\n"
     ]
    }
   ],
   "source": [
    "import numpy as np\n",
    "\n",
    "# Inputs n = 4\n",
    "inputs = np.array([1.0, 2.0, 3.0])\n",
    "\n",
    "# weigths\n",
    "weights = np.array([0.2, 0.8, -0.5])\n",
    "\n",
    "# bias\n",
    "b = 2.0\n",
    "\n",
    "# check if the number of inputs and weights match\n",
    "assert inputs.shape == weights.shape and inputs.ndim == 1, \"Error weights and inputs should have same shape\"\n",
    "\n",
    "# output produced by neuron will be y\n",
    "y = np.dot(inputs, weights) + b\n",
    "\n",
    "# Printing the output\n",
    "print(f\"Output of the neuron (y) = {y}\")"
   ]
  },
  {
   "cell_type": "markdown",
   "metadata": {},
   "source": [
    "## Conclusion and Future Work:\n",
    "- We have understood basic building block of a neural network called neuron.\n",
    "- We have implemented neuron in pure python using variables.\n",
    "- We have implemented neuron in python using lists.\n",
    "- We have understood basics of dot product.\n",
    "- Finally, we have implemented neuron using numpy library and numpy arrays. We have also used numpy to do dot product instead of for loop which makes our code more clean, efficient and makes our life much more easy.\n",
    "- In future we would like to make our code modular and make layer of neurons instead of only a single neuron which will lead us to neural networks.\n",
    "\n",
    "##### Credits:\n",
    "Examples used from Neural networks from scratch: Harrison Kinsley & Daniel Kukieła\n",
    " "
   ]
  }
 ],
 "metadata": {
  "kernelspec": {
   "display_name": "Python 3",
   "language": "python",
   "name": "python3"
  },
  "language_info": {
   "codemirror_mode": {
    "name": "ipython",
    "version": 3
   },
   "file_extension": ".py",
   "mimetype": "text/x-python",
   "name": "python",
   "nbconvert_exporter": "python",
   "pygments_lexer": "ipython3",
   "version": "3.11.2"
  },
  "orig_nbformat": 4
 },
 "nbformat": 4,
 "nbformat_minor": 2
}
